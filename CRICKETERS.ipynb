{
  "nbformat": 4,
  "nbformat_minor": 0,
  "metadata": {
    "colab": {
      "name": "CRICKETERS.ipynb",
      "provenance": [],
      "collapsed_sections": []
    },
    "kernelspec": {
      "display_name": "Python 3",
      "name": "python3"
    }
  },
  "cells": [
    {
      "cell_type": "code",
      "metadata": {
        "id": "rVsSfIU80Epa"
      },
      "source": [
        "import sqlite3\n",
        "connection=sqlite3.connect('Cric.db')\n",
        "c=connection.cursor()"
      ],
      "execution_count": null,
      "outputs": []
    },
    {
      "cell_type": "code",
      "metadata": {
        "colab": {
          "base_uri": "https://localhost:8080/"
        },
        "id": "a28Ck2i2Gwjt",
        "outputId": "48465d8a-3661-4c63-f123-fdb5ccc6f2cb"
      },
      "source": [
        "data=\"\"\"CREATE TABLE CRICKETERS(\n",
        "  firstname VARCHAR(25) PRIMARY KEY,\n",
        "  lastname VARCHAR(25),\n",
        "  age INTEGER,\n",
        "  place_of_birth INTEGER,\n",
        "  country VARCHAR(25)\n",
        ")\"\"\"\n",
        "c.execute(data)"
      ],
      "execution_count": null,
      "outputs": [
        {
          "output_type": "execute_result",
          "data": {
            "text/plain": [
              "<sqlite3.Cursor at 0x7f2843b65500>"
            ]
          },
          "metadata": {
            "tags": []
          },
          "execution_count": 98
        }
      ]
    },
    {
      "cell_type": "code",
      "metadata": {
        "colab": {
          "base_uri": "https://localhost:8080/"
        },
        "id": "HlStCszSBMKh",
        "outputId": "9ec268ff-8f42-43d9-ce61-a708a93e4ab5"
      },
      "source": [
        "data=\"\"\"INSERT INTO CRICKETERS VALUES(\"Shikhar\",\"Dhawan\",33,\"Delhi\",\"India\");\"\"\"\n",
        "c.execute(data)"
      ],
      "execution_count": null,
      "outputs": [
        {
          "output_type": "execute_result",
          "data": {
            "text/plain": [
              "<sqlite3.Cursor at 0x7f2843b65500>"
            ]
          },
          "metadata": {
            "tags": []
          },
          "execution_count": 99
        }
      ]
    },
    {
      "cell_type": "code",
      "metadata": {
        "colab": {
          "base_uri": "https://localhost:8080/"
        },
        "id": "uR1q45EpBqkr",
        "outputId": "8fc49c1d-57ed-4c16-eb03-64975fa19d9f"
      },
      "source": [
        "data=\"\"\"INSERT INTO CRICKETERS VALUES(\"Jonathan\",\"Trott\",39,\"Cape Town\",\"SouthAfrica\");\"\"\"\n",
        "c.execute(data)"
      ],
      "execution_count": null,
      "outputs": [
        {
          "output_type": "execute_result",
          "data": {
            "text/plain": [
              "<sqlite3.Cursor at 0x7f2843b65500>"
            ]
          },
          "metadata": {
            "tags": []
          },
          "execution_count": 100
        }
      ]
    },
    {
      "cell_type": "code",
      "metadata": {
        "colab": {
          "base_uri": "https://localhost:8080/"
        },
        "id": "wsShSKpuBq6D",
        "outputId": "353e0f94-9923-4ed6-fd65-a8426cf68660"
      },
      "source": [
        "data=\"\"\"INSERT INTO CRICKETERS VALUES(\"Kumara\",\"Sangakkara\",41,\"Matale\",\"Srilanka\");\"\"\"\n",
        "c.execute(data)"
      ],
      "execution_count": null,
      "outputs": [
        {
          "output_type": "execute_result",
          "data": {
            "text/plain": [
              "<sqlite3.Cursor at 0x7f2843b65500>"
            ]
          },
          "metadata": {
            "tags": []
          },
          "execution_count": 101
        }
      ]
    },
    {
      "cell_type": "code",
      "metadata": {
        "colab": {
          "base_uri": "https://localhost:8080/"
        },
        "id": "KKHvftlhCtfL",
        "outputId": "06939b7d-39f5-49a2-9d40-de0d99b9b553"
      },
      "source": [
        "data=\"\"\"INSERT INTO CRICKETERS VALUES(\"Virat\",\"Kohli\",30,\"Delhi\",\"India\");\"\"\"\n",
        "c.execute(data)"
      ],
      "execution_count": null,
      "outputs": [
        {
          "output_type": "execute_result",
          "data": {
            "text/plain": [
              "<sqlite3.Cursor at 0x7f2843b65500>"
            ]
          },
          "metadata": {
            "tags": []
          },
          "execution_count": 102
        }
      ]
    },
    {
      "cell_type": "code",
      "metadata": {
        "colab": {
          "base_uri": "https://localhost:8080/"
        },
        "id": "EJWtdsJ2C4kg",
        "outputId": "a076b9e2-24c8-4767-bd1a-e4d2f0e1cb76"
      },
      "source": [
        "data=\"\"\"INSERT INTO CRICKETERS VALUES(\"Rohit\",\"Sharma\",32,\"Nagpur\",\"India\");\"\"\"\n",
        "c.execute(data)"
      ],
      "execution_count": null,
      "outputs": [
        {
          "output_type": "execute_result",
          "data": {
            "text/plain": [
              "<sqlite3.Cursor at 0x7f2843b65500>"
            ]
          },
          "metadata": {
            "tags": []
          },
          "execution_count": 103
        }
      ]
    },
    {
      "cell_type": "code",
      "metadata": {
        "colab": {
          "base_uri": "https://localhost:8080/"
        },
        "id": "mi2Xn8RZDG-2",
        "outputId": "bfca96ba-55c8-44c4-c2e4-aa295264ac02"
      },
      "source": [
        "c.execute(\"SELECT * FROM CRICKETERS\")"
      ],
      "execution_count": null,
      "outputs": [
        {
          "output_type": "execute_result",
          "data": {
            "text/plain": [
              "<sqlite3.Cursor at 0x7f2843b65500>"
            ]
          },
          "metadata": {
            "tags": []
          },
          "execution_count": 104
        }
      ]
    },
    {
      "cell_type": "code",
      "metadata": {
        "colab": {
          "base_uri": "https://localhost:8080/"
        },
        "id": "yJkDeRCBEr2i",
        "outputId": "8297d781-79b1-42e5-b2d1-7496ff6a6102"
      },
      "source": [
        "hello = c.fetchall()\n",
        "for i in hello:\n",
        "  print(i)"
      ],
      "execution_count": null,
      "outputs": [
        {
          "output_type": "stream",
          "text": [
            "('Shikhar', 'Dhawan', 33, 'Delhi', 'India')\n",
            "('Jonathan', 'Trott', 39, 'Cape Town', 'SouthAfrica')\n",
            "('Kumara', 'Sangakkara', 41, 'Matale', 'Srilanka')\n",
            "('Virat', 'Kohli', 30, 'Delhi', 'India')\n",
            "('Rohit', 'Sharma', 32, 'Nagpur', 'India')\n"
          ],
          "name": "stdout"
        }
      ]
    },
    {
      "cell_type": "code",
      "metadata": {
        "colab": {
          "base_uri": "https://localhost:8080/"
        },
        "id": "FYTDDJwqE5Ri",
        "outputId": "4840df97-ef02-48db-9a4e-e7e28376228d"
      },
      "source": [
        "c.execute(\"SELECT firstname,age FROM CRICKETERS\")"
      ],
      "execution_count": null,
      "outputs": [
        {
          "output_type": "execute_result",
          "data": {
            "text/plain": [
              "<sqlite3.Cursor at 0x7f2843b65500>"
            ]
          },
          "metadata": {
            "tags": []
          },
          "execution_count": 106
        }
      ]
    },
    {
      "cell_type": "code",
      "metadata": {
        "colab": {
          "base_uri": "https://localhost:8080/"
        },
        "id": "Li1_GL_wII50",
        "outputId": "4abde98d-2c82-4e04-83cb-5478ac910361"
      },
      "source": [
        "hello = c.fetchall()\n",
        "for i,j in hello:\n",
        "  if j>35:\n",
        "    print(i,\"is age above 35\")"
      ],
      "execution_count": null,
      "outputs": [
        {
          "output_type": "stream",
          "text": [
            "Jonathan is age above 35\n",
            "Kumara is age above 35\n"
          ],
          "name": "stdout"
        }
      ]
    },
    {
      "cell_type": "code",
      "metadata": {
        "colab": {
          "base_uri": "https://localhost:8080/"
        },
        "id": "n6AGmyCsIP2b",
        "outputId": "a31c5ba0-f287-4066-e786-e7f7256ab993"
      },
      "source": [
        "c.execute(\"SELECT firstname FROM CRICKETERS ORDER BY firstname\")"
      ],
      "execution_count": null,
      "outputs": [
        {
          "output_type": "execute_result",
          "data": {
            "text/plain": [
              "<sqlite3.Cursor at 0x7f2843b65500>"
            ]
          },
          "metadata": {
            "tags": []
          },
          "execution_count": 108
        }
      ]
    },
    {
      "cell_type": "code",
      "metadata": {
        "colab": {
          "base_uri": "https://localhost:8080/"
        },
        "id": "t4_vha5hI-S2",
        "outputId": "8c8d150a-7497-4400-962a-7eb299d2c442"
      },
      "source": [
        "hello=c.fetchall()\n",
        "for i in hello:\n",
        "  print(i)"
      ],
      "execution_count": null,
      "outputs": [
        {
          "output_type": "stream",
          "text": [
            "('Jonathan',)\n",
            "('Kumara',)\n",
            "('Rohit',)\n",
            "('Shikhar',)\n",
            "('Virat',)\n"
          ],
          "name": "stdout"
        }
      ]
    },
    {
      "cell_type": "code",
      "metadata": {
        "colab": {
          "base_uri": "https://localhost:8080/"
        },
        "id": "z5GaMs93Jloa",
        "outputId": "0387a440-60df-485a-e83c-76588237f0b9"
      },
      "source": [
        "c.execute(\"ALTER TABLE CRICKETERS ADD gender VARCHAR(25);\")"
      ],
      "execution_count": null,
      "outputs": [
        {
          "output_type": "execute_result",
          "data": {
            "text/plain": [
              "<sqlite3.Cursor at 0x7f2843b65500>"
            ]
          },
          "metadata": {
            "tags": []
          },
          "execution_count": 110
        }
      ]
    },
    {
      "cell_type": "code",
      "metadata": {
        "colab": {
          "base_uri": "https://localhost:8080/"
        },
        "id": "hpdfHzUKl_Et",
        "outputId": "cea85b62-53f0-4aa9-f25d-f317f8435833"
      },
      "source": [
        "c.execute(\"SELECT * FROM CRICKETERS\")"
      ],
      "execution_count": null,
      "outputs": [
        {
          "output_type": "execute_result",
          "data": {
            "text/plain": [
              "<sqlite3.Cursor at 0x7f2843b65500>"
            ]
          },
          "metadata": {
            "tags": []
          },
          "execution_count": 112
        }
      ]
    },
    {
      "cell_type": "code",
      "metadata": {
        "colab": {
          "base_uri": "https://localhost:8080/"
        },
        "id": "_X_OuKUPT1UY",
        "outputId": "ba6ca866-37b3-4d6a-dbeb-4411e1e27cce"
      },
      "source": [
        "hello=c.fetchall()\n",
        "for i in hello:\n",
        "  print(i)"
      ],
      "execution_count": null,
      "outputs": [
        {
          "output_type": "stream",
          "text": [
            "('Shikhar', 'Dhawan', 33, 'Delhi', 'India', None)\n",
            "('Jonathan', 'Trott', 39, 'Cape Town', 'SouthAfrica', None)\n",
            "('Kumara', 'Sangakkara', 41, 'Matale', 'Srilanka', None)\n",
            "('Virat', 'Kohli', 30, 'Delhi', 'India', None)\n",
            "('Rohit', 'Sharma', 32, 'Nagpur', 'India', None)\n"
          ],
          "name": "stdout"
        }
      ]
    },
    {
      "cell_type": "code",
      "metadata": {
        "id": "d9hfuyodmKFN",
        "colab": {
          "base_uri": "https://localhost:8080/"
        },
        "outputId": "be0b0063-79db-49b1-aac7-dcadddcacbe4"
      },
      "source": [
        "c.execute(\"DELETE FROM CRICKETERS WHERE age > 40\")"
      ],
      "execution_count": null,
      "outputs": [
        {
          "output_type": "execute_result",
          "data": {
            "text/plain": [
              "<sqlite3.Cursor at 0x7f2843b65500>"
            ]
          },
          "metadata": {
            "tags": []
          },
          "execution_count": 115
        }
      ]
    },
    {
      "cell_type": "code",
      "metadata": {
        "colab": {
          "base_uri": "https://localhost:8080/"
        },
        "id": "7NTopvX-_2QT",
        "outputId": "cf7754a7-f69a-4d29-a6cf-7732505c65ac"
      },
      "source": [
        "c.execute(\"SELECT * FROM CRICKETERS\")\n",
        "hello=c.fetchall()\n",
        "for i in hello:\n",
        "  print(i)"
      ],
      "execution_count": null,
      "outputs": [
        {
          "output_type": "stream",
          "text": [
            "('Shikhar', 'Dhawan', 33, 'Delhi', 'India', None)\n",
            "('Jonathan', 'Trott', 39, 'Cape Town', 'SouthAfrica', None)\n",
            "('Virat', 'Kohli', 30, 'Delhi', 'India', None)\n",
            "('Rohit', 'Sharma', 32, 'Nagpur', 'India', None)\n"
          ],
          "name": "stdout"
        }
      ]
    },
    {
      "cell_type": "code",
      "metadata": {
        "id": "7ynGbIdKsZIZ",
        "colab": {
          "base_uri": "https://localhost:8080/"
        },
        "outputId": "06a6f128-2329-4d06-fcbb-94fe8db4b854"
      },
      "source": [
        "import webbrowser\n",
        "f = open('helloworld.html','w')\n",
        "message = \"\"\"<html>\n",
        "  <body> \n",
        "    <h1>My First Web Page</h1>\n",
        "    <h3>Headings are Great Fun</h3>\n",
        "    <p>This is my first paragraph in my new webpage. This is going to be great. I am so excited i can hardly contain <b>myself</b>. Dont you just love paragraphs? I <br/>find them very useful.</p>\n",
        "    <h3>Web Pages Are Exciting Too</h3>\n",
        "    <p>Yes , thats right - web pages can be a lot of fun. Learning how to create web pages is easy and <b>entertaining</b>. This is my seconf paragraph. I hope you like<br/> it.</p>\n",
        "    <br/>\n",
        "    <a href=\"https://www.google.com/\">Link to Google</a>\n",
        "    <ul>\n",
        "      <li>Apples</li>\n",
        "      <li>Bananas</li>\n",
        "      <li>Pears</li>\n",
        "      <li>Oranges</li>\n",
        "      <li>Grapes</li>\n",
        "    </ul>\n",
        "    <p>\"A designer knows he has achieved perfection not when there is nothing left to add, but when there is nothing left to take away\" -Saint <br/>Exupery</p>\n",
        "  </body>\n",
        "</html>\"\"\"\n",
        "f.write(message)"
      ],
      "execution_count": null,
      "outputs": [
        {
          "output_type": "execute_result",
          "data": {
            "text/plain": [
              "877"
            ]
          },
          "metadata": {
            "tags": []
          },
          "execution_count": 1
        }
      ]
    },
    {
      "cell_type": "code",
      "metadata": {
        "id": "d4Emt463Cuyl"
      },
      "source": [
        "f.close()"
      ],
      "execution_count": null,
      "outputs": []
    },
    {
      "cell_type": "code",
      "metadata": {
        "colab": {
          "base_uri": "https://localhost:8080/",
          "height": 445
        },
        "id": "Peowg5IaC-ki",
        "outputId": "f24a3877-f1c5-4edf-dc0f-2372ac690b40"
      },
      "source": [
        "import IPython\n",
        "IPython.display.HTML(filename='helloworld.html')"
      ],
      "execution_count": null,
      "outputs": [
        {
          "output_type": "execute_result",
          "data": {
            "text/html": [
              "<html>\n",
              "  <body> \n",
              "    <h1>My First Web Page</h1>\n",
              "    <h3>Headings are Great Fun</h3>\n",
              "    <p>This is my first paragraph in my new webpage. This is going to be great. I am so excited i can hardly contain <b>myself</b>. Dont you just love paragraphs? I <br/>find them very useful.</p>\n",
              "    <h3>Web Pages Are Exciting Too</h3>\n",
              "    <p>Yes , thats right - web pages can be a lot of fun. Learning how to create web pages is easy and <b>entertaining</b>. This is my seconf paragraph. I hope you like<br/> it.</p>\n",
              "    <br/>\n",
              "    <a href=\"https://www.google.com/\">Link to Google</a>\n",
              "    <ul>\n",
              "      <li>Apples</li>\n",
              "      <li>Bananas</li>\n",
              "      <li>Pears</li>\n",
              "      <li>Oranges</li>\n",
              "      <li>Grapes</li>\n",
              "    </ul>\n",
              "    <p>\"A designer knows he has achieved perfection not when there is nothing left to add, but when there is nothing left to take away\" -Saint <br/>Exupery</p>\n",
              "  </body>\n",
              "</html>"
            ],
            "text/plain": [
              "<IPython.core.display.HTML object>"
            ]
          },
          "metadata": {
            "tags": []
          },
          "execution_count": 4
        }
      ]
    }
  ]
}